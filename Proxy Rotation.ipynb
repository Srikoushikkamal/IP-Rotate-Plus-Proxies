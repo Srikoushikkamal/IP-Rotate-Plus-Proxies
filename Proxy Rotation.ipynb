{
 "cells": [
  {
   "cell_type": "code",
   "execution_count": 2,
   "metadata": {},
   "outputs": [],
   "source": [
    "import requests\n",
    "import csv"
   ]
  },
  {
   "cell_type": "code",
   "execution_count": 3,
   "metadata": {},
   "outputs": [],
   "source": [
    "proxies=[]"
   ]
  },
  {
   "cell_type": "code",
   "execution_count": 4,
   "metadata": {},
   "outputs": [],
   "source": [
    "with open('/home/skk/Desktop/Proxy.csv','r')as fil: #Use your LocalPath\n",
    "    reader=csv.reader(fil)\n",
    "    for row in reader:\n",
    "        proxies.append(row)"
   ]
  },
  {
   "cell_type": "code",
   "execution_count": 1,
   "metadata": {},
   "outputs": [],
   "source": [
    "len(proxies)"
   ]
  },
  {
   "cell_type": "code",
   "execution_count": 6,
   "metadata": {},
   "outputs": [],
   "source": [
    "def updated(proxy):\n",
    "    try:\n",
    "        req=requests.get('https://httpbin.org/ip',proxies={'http':proxy,'https':proxy},timeout=2) #Set LocalIp to Configured IP\n",
    "        print(req.json(),'Yes') #Check Request Status\n",
    "    except:\n",
    "        pass\n",
    "    return proxy"
   ]
  },
  {
   "cell_type": "code",
   "execution_count": null,
   "metadata": {},
   "outputs": [],
   "source": [
    "x=[]\n",
    "for i in proxies:\n",
    "    new=str(i)\n",
    "    new=new[2:-2]\n",
    "    #print(new)\n",
    "    new1=updated(new)\n",
    "    print(new1)"
   ]
  },
  {
   "cell_type": "code",
   "execution_count": null,
   "metadata": {},
   "outputs": [],
   "source": []
  }
 ],
 "metadata": {
  "kernelspec": {
   "display_name": "Python 3",
   "language": "python",
   "name": "python3"
  },
  "language_info": {
   "codemirror_mode": {
    "name": "ipython",
    "version": 3
   },
   "file_extension": ".py",
   "mimetype": "text/x-python",
   "name": "python",
   "nbconvert_exporter": "python",
   "pygments_lexer": "ipython3",
   "version": "3.8.5"
  }
 },
 "nbformat": 4,
 "nbformat_minor": 4
}
